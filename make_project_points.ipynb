{
 "cells": [
  {
   "cell_type": "code",
   "execution_count": 44,
   "metadata": {},
   "outputs": [],
   "source": [
    "import numpy as np\n",
    "import cv2\n",
    "from matplotlib import pyplot as plt\n",
    "import math\n",
    "import screeninfo\n",
    "import freenect"
   ]
  },
  {
   "cell_type": "code",
   "execution_count": 45,
   "metadata": {},
   "outputs": [
    {
     "name": "stdout",
     "output_type": "stream",
     "text": [
      "Using matplotlib backend: TkAgg\n"
     ]
    }
   ],
   "source": [
    "%matplotlib\n",
    "def plot(string='',*images):\n",
    "    ncols=2\n",
    "    nrows=int(math.ceil(len(images)/2.0))\n",
    "    fig, ax = plt.subplots(nrows, ncols,gridspec_kw = {'wspace':0, 'hspace':0},facecolor='.5')\n",
    "    plt.axis('off')\n",
    "    for i in range(0,len(images)):\n",
    "        plt.subplot(nrows,ncols,i+1),plt.imshow(images[i],cmap='binary_r')\n",
    "        plt.text(0,0,string+'\\n')\n",
    "        plt.axis('off')\n",
    "    plt.show()"
   ]
  },
  {
   "cell_type": "code",
   "execution_count": 46,
   "metadata": {},
   "outputs": [],
   "source": [
    "def make_rect_points(cv_rw,cv_cl):\n",
    "    h=150\n",
    "    w=200\n",
    "    return [(cv_cl,cv_rw),(cv_cl+w,cv_rw),(cv_cl,cv_rw+h),(cv_cl+w,cv_rw+h)]"
   ]
  },
  {
   "cell_type": "code",
   "execution_count": 47,
   "metadata": {},
   "outputs": [],
   "source": [
    "def get_frame():\n",
    "    array,_ = freenect.sync_get_video()\n",
    "    array = cv2.cvtColor(array,cv2.COLOR_RGB2GRAY)\n",
    "    return array"
   ]
  },
  {
   "cell_type": "code",
   "execution_count": 48,
   "metadata": {},
   "outputs": [],
   "source": [
    "def find_homo(src,dst):\n",
    "    h, status = cv2.findHomography(src,dst)\n",
    "    return h"
   ]
  },
  {
   "cell_type": "code",
   "execution_count": 49,
   "metadata": {},
   "outputs": [],
   "source": [
    "def find_dest(in_points,h):\n",
    "    points=[]\n",
    "    for point in in_points:\n",
    "        point=list(point)\n",
    "        point.append(1)\n",
    "        homo_points=np.matmul(h,point)\n",
    "        points.append((int(homo_points[0]/homo_points[2]),int(homo_points[1]/homo_points[2])))\n",
    "    return points"
   ]
  },
  {
   "cell_type": "code",
   "execution_count": 50,
   "metadata": {},
   "outputs": [],
   "source": [
    "def make_project_points(rows=768,colms=1366,pnts=(400,700)):\n",
    "    screen_id = 1\n",
    "    is_color = False\n",
    "\n",
    "    # get the size of the screen\n",
    "    screen = screeninfo.get_monitors()[screen_id]\n",
    "    colms, rows = screen.width, screen.height\n",
    "\n",
    "    # create image\n",
    "    if is_color:\n",
    "        img = np.zeros((rows,colms,3), np.uint8)\n",
    "        pts_src=make_rect_points(pnts[0],pnts[1])\n",
    "        for pts in pts_src: \n",
    "            cv2.circle(img,(pts[0],pts[1]),20, (255,255,255), -1)\n",
    "    else:\n",
    "        img = np.zeros((rows,colms,3), np.uint8)\n",
    "        pts_src=make_rect_points(pnts[0],pnts[1])\n",
    "        for pts in pts_src: \n",
    "            cv2.circle(img,(pts[0],pts[1]),20, (255,255,255), -1)\n",
    "    #cv2.circle(img,(401, 519),10, (255,255,255), -1)\n",
    "    window_name = 'projector'\n",
    "    cv2.namedWindow(window_name, cv2.WND_PROP_FULLSCREEN)\n",
    "    cv2.moveWindow(window_name, screen.x - 1, screen.y - 1)\n",
    "    cv2.setWindowProperty(window_name, cv2.WND_PROP_FULLSCREEN,\n",
    "                          cv2.WINDOW_FULLSCREEN)\n",
    "    cv2.imshow(window_name, img)\n",
    "    cv2.waitKey(0)\n",
    "    \n",
    "    return [img, pts_src]\n"
   ]
  },
  {
   "cell_type": "code",
   "execution_count": 51,
   "metadata": {},
   "outputs": [],
   "source": [
    "def find_cam_points():\n",
    "    img= get_frame()\n",
    "    cv2.imwrite(\"./captured.jpg\",img)\n",
    "    plot('grabbed',img  )\n",
    "    ret,th1 = cv2.threshold(img,127,255,cv2.THRESH_BINARY)\n",
    "    plot(\"threshold\",th1)\n",
    "    mask = cv2.erode(th1, None, iterations=2)\n",
    "    mask = cv2.dilate(mask, None, iterations=3)\n",
    "    plot(\"mask\",mask)\n",
    "    im, contours, hierarchy = cv2.findContours(mask.copy(), cv2.RETR_EXTERNAL, cv2.CHAIN_APPROX_SIMPLE)\n",
    "    sorted_cnts = sorted(contours,key= lambda cnt: int(cv2.minEnclosingCircle(cnt)[1]), reverse=True)[:4]\n",
    "    sum_arry=[]\n",
    "    diff_arry=[]\n",
    "    ponts=[]#debug\n",
    "    for cnt in sorted_cnts:\n",
    "        (x,y),radius = cv2.minEnclosingCircle(cnt)\n",
    "        sum_arry.append(x+y)\n",
    "        diff_arry.append(x-y)\n",
    "        ponts.append((int(x),int(y)))\n",
    "    top_left = np.argmin(sum_arry)\n",
    "    bot_right=np.argmax(sum_arry)\n",
    "    top_right=np.argmax(diff_arry)\n",
    "    bot_left=np.argmin(diff_arry)\n",
    "    return [ponts[top_left],ponts[top_right],ponts[bot_left],ponts[bot_right]]\n"
   ]
  },
  {
   "cell_type": "code",
   "execution_count": 52,
   "metadata": {},
   "outputs": [],
   "source": [
    "im_po=make_project_points()\n",
    "\n",
    "src=find_cam_points()\n",
    "\n",
    "\n",
    "\n",
    "dst=make_rect_points(400,700)\n",
    "\n",
    "h=find_homo(np.array(src),np.array(dst))\n",
    "\n",
    "\n",
    "cv2.destroyAllWindows()"
   ]
  },
  {
   "cell_type": "code",
   "execution_count": 53,
   "metadata": {},
   "outputs": [],
   "source": [
    "dictionary = {'homo':h}\n",
    "np.save('homography.npy', dictionary)"
   ]
  }
 ],
 "metadata": {
  "kernelspec": {
   "display_name": "Python 2",
   "language": "python",
   "name": "python2"
  },
  "language_info": {
   "codemirror_mode": {
    "name": "ipython",
    "version": 2
   },
   "file_extension": ".py",
   "mimetype": "text/x-python",
   "name": "python",
   "nbconvert_exporter": "python",
   "pygments_lexer": "ipython2",
   "version": "2.7.13"
  }
 },
 "nbformat": 4,
 "nbformat_minor": 2
}
