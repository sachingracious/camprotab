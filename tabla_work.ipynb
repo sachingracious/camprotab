{
 "cells": [
  {
   "cell_type": "code",
   "execution_count": 1,
   "metadata": {
    "scrolled": false
   },
   "outputs": [],
   "source": [
    "import numpy as np\n",
    "import cv2\n",
    "from matplotlib import pyplot as plt\n",
    "import math\n",
    "import screeninfo\n",
    "import freenect\n"
   ]
  },
  {
   "cell_type": "code",
   "execution_count": 2,
   "metadata": {},
   "outputs": [
    {
     "name": "stdout",
     "output_type": "stream",
     "text": [
      "Using matplotlib backend: TkAgg\n"
     ]
    }
   ],
   "source": [
    "%matplotlib\n",
    "def plot(string='',*images):\n",
    "    ncols=2\n",
    "    nrows=int(math.ceil(len(images)/2.0))\n",
    "    fig, ax = plt.subplots(nrows, ncols,gridspec_kw = {'wspace':0, 'hspace':0},facecolor='.5')\n",
    "    plt.axis('off')\n",
    "    for i in range(0,len(images)):\n",
    "        plt.subplot(nrows,ncols,i+1),plt.imshow(images[i],cmap='gray')\n",
    "        plt.text(0,0,string+'\\n')\n",
    "        plt.axis('off')\n",
    "    plt.show()"
   ]
  },
  {
   "cell_type": "code",
   "execution_count": 3,
   "metadata": {},
   "outputs": [],
   "source": [
    "def get_frame():\n",
    "    array,_ = freenect.sync_get_video()\n",
    "    array = cv2.cvtColor(array,cv2.COLOR_RGB2GRAY)\n",
    "    return array"
   ]
  },
  {
   "cell_type": "code",
   "execution_count": 4,
   "metadata": {},
   "outputs": [],
   "source": [
    "def find_dest(in_points,h):\n",
    "    points=[]\n",
    "    for point in in_points:\n",
    "        point=list(point)\n",
    "        point.append(1)\n",
    "        homo_points=np.matmul(h,point)\n",
    "        points.append([int(homo_points[0]/homo_points[2]),int(homo_points[1]/homo_points[2])])\n",
    "    return np.array(points)"
   ]
  },
  {
   "cell_type": "code",
   "execution_count": 5,
   "metadata": {},
   "outputs": [],
   "source": [
    "def make_rect_points(cv_rw,cv_cl):\n",
    "    h=100\n",
    "    w=150\n",
    "    return [(cv_cl,cv_rw),(cv_cl+w,cv_rw),(cv_cl,cv_rw+h),(cv_cl+w,cv_rw+h)]"
   ]
  },
  {
   "cell_type": "code",
   "execution_count": 6,
   "metadata": {},
   "outputs": [],
   "source": [
    "def find_white_sheets():\n",
    "    kernel = np.ones((5,5),np.uint8)\n",
    "    \n",
    "    frame=cv2.imread(\"./test.jpg\",1)\n",
    "    plot('frame',frame)\n",
    "    \n",
    "    blur= cv2.medianBlur(frame, 11)\n",
    "    edged=cv2.Canny(blur, 25, 200)\n",
    "    dilation = cv2.dilate(edged,kernel,iterations = 1)\n",
    "    plot('edged',dilation)\n",
    "    im, contours, hierarchy = cv2.findContours(edged, cv2.RETR_TREE, cv2.CHAIN_APPROX_SIMPLE)\n",
    "    hierarchy=hierarchy[0]\n",
    "    print hierarchy\n",
    "    for i,each in enumerate(contours):\n",
    "        if hierarchy[i][3]<0:\n",
    "            image_prop_list = is_parent_return_image(i, hierarchy,contours,frame)\n",
    "            break\n",
    "    return image_prop_list    \n",
    "        "
   ]
  },
  {
   "cell_type": "code",
   "execution_count": 7,
   "metadata": {},
   "outputs": [],
   "source": [
    "def count_children(index, h_, contour):\n",
    "    if h_[index][2] < 0:\n",
    "        return 0\n",
    "    else:\n",
    "        count = 1\n",
    "        # Also count all of the child's siblings and their children\n",
    "        count += count_siblings(h_[index][2], h_, contour, True)\n",
    "        return count"
   ]
  },
  {
   "cell_type": "code",
   "execution_count": 8,
   "metadata": {},
   "outputs": [],
   "source": [
    "def count_siblings(index, h_, contour, inc_children=False):\n",
    "    # Include the children if necessary\n",
    "    if inc_children:\n",
    "        count = count_children(index, h_, contour)\n",
    "    else:\n",
    "        count = 0\n",
    "\n",
    "    # Look ahead\n",
    "    p_ = h_[index][0]\n",
    "    while p_ > 0:\n",
    "        count += 1\n",
    "        if inc_children:\n",
    "            count += count_children(p_, h_, contour)\n",
    "        p_ = h_[p_][0]\n",
    "\n",
    "    # Look behind\n",
    "    n = h_[index][1]\n",
    "    while n > 0:\n",
    "        count += 1\n",
    "        if inc_children:\n",
    "            count += count_children(n, h_, contour)\n",
    "        n = h_[n][1]\n",
    "    return count"
   ]
  },
  {
   "cell_type": "code",
   "execution_count": 9,
   "metadata": {},
   "outputs": [],
   "source": [
    "def is_parent_return_image(index, h_,contour,img):\n",
    "    img_childno_array=[]\n",
    "    \n",
    "    parent = h_[index][3]\n",
    "    if parent < 0:\n",
    "        p_ = index\n",
    "        while p_ >= 0:\n",
    "\n",
    "            rect = cv2.minAreaRect(contour[p_])\n",
    "            W = rect[1][0]\n",
    "            H = rect[1][1]\n",
    "            if W*H >300:\n",
    "                im_box = crop_im_box(rect,img)\n",
    "                children_no = count_children(p_, h_, contour)\n",
    "                img_childno_array.append([im_box,children_no])\n",
    "            \n",
    "            p_ = h_[p_][0]\n",
    "\n",
    "        # Look behind\n",
    "        n = h_[index][1]\n",
    "        while n >= 0:\n",
    "            rect = cv2.minAreaRect(contour[n])\n",
    "            W = rect[1][0]\n",
    "            H = rect[1][1]\n",
    "            if W*H >300:\n",
    "                im_box = crop_im_box(rect,img)\n",
    "                children_no = count_children(p_, h_, contour)\n",
    "                img_childno_array.append([im_box,children_no])\n",
    "            \n",
    "            n = h_[n][1]       \n",
    "        return img_childno_array\n",
    "    else :\n",
    "        return False"
   ]
  },
  {
   "cell_type": "code",
   "execution_count": 10,
   "metadata": {},
   "outputs": [],
   "source": [
    " def crop_im_box(rect,img):\n",
    "    mult = 1.2\n",
    "    W = rect[1][0]\n",
    "    H = rect[1][1]\n",
    "    \n",
    "    box = cv2.boxPoints(rect)\n",
    "    box = np.int0(box)\n",
    "    Xs = [i[0] for i in box]\n",
    "    Ys = [i[1] for i in box]\n",
    "    x1 = min(Xs)\n",
    "    x2 = max(Xs)\n",
    "    y1 = min(Ys)\n",
    "    y2 = max(Ys)\n",
    "    temp=img.copy()\n",
    "    cv2.drawContours(temp, [box], 0, (0,255,0), 2)\n",
    "    rotated = False\n",
    "    angle = rect[2]\n",
    "\n",
    "    if W<H:\n",
    "        angle+=90\n",
    "        rotated = True\n",
    "\n",
    "    center = (int((x1+x2)/2), int((y1+y2)/2))\n",
    "    size = (int(mult*(x2-x1)),int(mult*(y2-y1)))\n",
    "\n",
    "    M = cv2.getRotationMatrix2D((size[0]/2, size[1]/2), angle, 1.0)\n",
    "\n",
    "    cropped = cv2.getRectSubPix(img, size, center)    \n",
    "    cropped = cv2.warpAffine(cropped, M, size)\n",
    "\n",
    "    croppedW = W if not rotated else H \n",
    "    croppedH = H if not rotated else W\n",
    "\n",
    "    croppedRotated = cv2.getRectSubPix(cropped, (int(croppedW*mult), int(croppedH*mult)), (size[0]/2, size[1]/2))\n",
    "\n",
    "\n",
    "    return [croppedRotated,box]"
   ]
  },
  {
   "cell_type": "code",
   "execution_count": 11,
   "metadata": {},
   "outputs": [],
   "source": [
    "def show_anime(img):\n",
    "    screen_id = 1\n",
    "    # get the size of the screen\n",
    "    screen = screeninfo.get_monitors()[screen_id]\n",
    "    colms, rows = screen.width, screen.height\n",
    "   \n",
    "    window_name = 'anime'\n",
    "    cv2.namedWindow(window_name, cv2.WND_PROP_FULLSCREEN)\n",
    "    cv2.moveWindow(window_name, screen.x - 1, screen.y - 1)\n",
    "    cv2.setWindowProperty(window_name, cv2.WND_PROP_FULLSCREEN,\n",
    "                          cv2.WINDOW_FULLSCREEN)\n",
    "    cv2.imshow(window_name, img)\n",
    "    cv2.waitKey(0)"
   ]
  },
  {
   "cell_type": "code",
   "execution_count": 12,
   "metadata": {},
   "outputs": [],
   "source": [
    "def takecenteroid(elem):\n",
    "    M = cv2.moments(elem[0][1])\n",
    "    cX = int(M[\"m10\"] / M[\"m00\"])\n",
    "    return int(cX)\n"
   ]
  },
  {
   "cell_type": "code",
   "execution_count": 13,
   "metadata": {},
   "outputs": [],
   "source": [
    "def mouse_handler(event, x, y, flags, data) :\n",
    "    \n",
    "    if event == cv2.EVENT_LBUTTONDOWN :\n",
    "        cv2.circle(data['im'], (x,y),3, (0,0,255), 5, 16);\n",
    "        cv2.imshow(\"Image\", data['im']);\n",
    "        if len(data['points']) < 4 :\n",
    "            data['points'].append([x,y])"
   ]
  },
  {
   "cell_type": "code",
   "execution_count": 14,
   "metadata": {},
   "outputs": [],
   "source": [
    "def get_four_points(im):\n",
    "    \n",
    "    # Set up data to send to mouse handler\n",
    "    data = {}\n",
    "    data['im'] = im.copy()\n",
    "    data['points'] = []\n",
    "    \n",
    "    #Set the callback function for any mouse event\n",
    "    cv2.imshow(\"Image\",im)\n",
    "    cv2.setMouseCallback(\"Image\", mouse_handler, data)\n",
    "    cv2.waitKey(0)\n",
    "    \n",
    "    # Convert array to np.array\n",
    "    points = np.vstack(data['points']).astype(float)\n",
    "    \n",
    "    return points"
   ]
  },
  {
   "cell_type": "code",
   "execution_count": 15,
   "metadata": {},
   "outputs": [],
   "source": [
    "def find_homo(src,dst):\n",
    "    h, status = cv2.findHomography(src,dst)\n",
    "    return h"
   ]
  },
  {
   "cell_type": "code",
   "execution_count": 20,
   "metadata": {},
   "outputs": [
    {
     "name": "stdout",
     "output_type": "stream",
     "text": [
      "[[ 2 -1  1 -1]\n",
      " [-1 -1 -1  0]\n",
      " [ 4  0  3 -1]\n",
      " [-1 -1 -1  2]\n",
      " [ 6  2  5 -1]\n",
      " [-1 -1 -1  4]\n",
      " [ 8  4  7 -1]\n",
      " [-1 -1 -1  6]\n",
      " [10  6  9 -1]\n",
      " [-1 -1 -1  8]\n",
      " [12  8 11 -1]\n",
      " [-1 -1 -1 10]\n",
      " [14 10 13 -1]\n",
      " [-1 -1 -1 12]\n",
      " [16 12 15 -1]\n",
      " [-1 -1 -1 14]\n",
      " [-1 14 17 -1]\n",
      " [-1 -1 -1 16]]\n"
     ]
    }
   ],
   "source": [
    "image_and_box = find_white_sheets()\n",
    "sortedImage = sorted(image_and_box, key=takecenteroid)\n",
    "screen_id = 1\n",
    "screen = screeninfo.get_monitors()[screen_id]\n",
    "colms, rows = screen.width, screen.height\n",
    "\n",
    "img = np.zeros((rows,colms,3),np.uint8)\n",
    "temp=img.copy()\n",
    "pts_dst = get_four_points(img)\n",
    "\n",
    "read_h = np.load('homography.npy').item()\n",
    "read_h['homo']\n",
    "cv2.destroyAllWindows()\n",
    "for i in sortedImage:\n",
    "    box = find_dest(i[0][1],read_h['homo'])\n",
    "    cv2.drawContours(temp, [box], 0, (255,255,255), 7)\n",
    "    size=i[0][0].shape\n",
    "    pts_src = np.array(\n",
    "                       [\n",
    "                        [0,0],\n",
    "                        [size[1] - 1, 0],\n",
    "                        [0, size[0] - 1 ],\n",
    "                        [size[1] - 1, size[0] -1]\n",
    "                        ],dtype=float)\n",
    "    h = find_homo(pts_src,pts_dst)\n",
    "    im_temp = cv2.warpPerspective(i[0][0], h, (colms,rows))\n",
    "    new=im_temp+temp\n",
    "    show_anime(new)\n",
    "cv2.destroyAllWindows()\n"
   ]
  },
  {
   "cell_type": "code",
   "execution_count": null,
   "metadata": {},
   "outputs": [],
   "source": []
  }
 ],
 "metadata": {
  "kernelspec": {
   "display_name": "Python 2",
   "language": "python",
   "name": "python2"
  },
  "language_info": {
   "codemirror_mode": {
    "name": "ipython",
    "version": 2
   },
   "file_extension": ".py",
   "mimetype": "text/x-python",
   "name": "python",
   "nbconvert_exporter": "python",
   "pygments_lexer": "ipython2",
   "version": "2.7.13"
  }
 },
 "nbformat": 4,
 "nbformat_minor": 2
}
